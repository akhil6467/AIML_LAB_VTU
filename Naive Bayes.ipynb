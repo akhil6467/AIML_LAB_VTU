{
 "cells": [
  {
   "cell_type": "code",
   "execution_count": 6,
   "id": "8df467b6",
   "metadata": {},
   "outputs": [
    {
     "name": "stdout",
     "output_type": "stream",
     "text": [
      "14\n"
     ]
    }
   ],
   "source": [
    "import pandas as pd\n",
    "\n",
    "#reading the dataset\n",
    "data=pd.DataFrame(data=pd.read_csv('ConceptLearning.csv'))\n",
    "\n",
    "#calculating the total no.,no. of positive and no. of negative instances\n",
    "te=len(data)\n",
    "print(te)"
   ]
  },
  {
   "cell_type": "code",
   "execution_count": 7,
   "id": "72611c5e",
   "metadata": {},
   "outputs": [
    {
     "name": "stdout",
     "output_type": "stream",
     "text": [
      "Training Set : \n",
      "      Outlook Temperature Humidity   Windy PlayTennis\n",
      "11  Overcast        Mild     High  Strong        Yes\n",
      "9      Rainy        Mild   Normal    Weak        Yes\n",
      "13     Rainy        Mild     High  Strong         No\n",
      "0      Sunny         Hot     High    Weak         No\n",
      "6   Overcast        Cool   Normal  Strong        Yes\n",
      "1      Sunny         Hot     High  Strong         No\n",
      "3      Rainy        Mild     High    Weak        Yes\n",
      "12  Overcast         Hot   Normal    Weak        Yes\n",
      "10     Sunny        Mild   Normal  Strong        Yes\n",
      "8      Sunny        Cool   Normal    Weak        Yes\n"
     ]
    }
   ],
   "source": [
    "#np=len(data.loc[data[data.columns[-1]]=='Yes'])\n",
    "np= len(data.loc[data[data.columns[-1]]=='Yes'])\n",
    "nn=te-np\n",
    "\n",
    "#dividing the dataset into training and test\n",
    "training=data.sample(frac=0.75,replace=False)\n",
    "print('Training Set : \\n',training)\n"
   ]
  },
  {
   "cell_type": "code",
   "execution_count": 8,
   "id": "815de404",
   "metadata": {},
   "outputs": [
    {
     "name": "stdout",
     "output_type": "stream",
     "text": [
      "\n",
      "Test Data Set : \n",
      "     Outlook Temperature Humidity   Windy PlayTennis\n",
      "2  Overcast         Hot     High    Weak        Yes\n",
      "4     Rainy        Cool   Normal    Weak        Yes\n",
      "5     Rainy        Cool   Normal  Strong         No\n",
      "7     Sunny        Mild     High    Weak         No\n"
     ]
    }
   ],
   "source": [
    "test=pd.concat([data, training, training]).drop_duplicates(keep=False)\n",
    "print('\\nTest Data Set : \\n',test)\n"
   ]
  },
  {
   "cell_type": "code",
   "execution_count": 9,
   "id": "66a0ed06",
   "metadata": {},
   "outputs": [],
   "source": [
    "#For every value of each attribute calculate the negative and positive probability\n",
    "prob={}\n",
    "for col in training.columns[:-1]:\n",
    "    prob[col]={}\n",
    "    vals=set(data[col])\n",
    "\n",
    "    for val in vals:\n",
    "        temp=training.loc[training[col]==val]\n",
    "       # print(temp)\n",
    "        pe=len(temp.loc[temp[temp.columns[-1]]=='Yes'])\n",
    "        ne=len(temp)-pe\n",
    "      #  print(pe,ne)\n",
    "        prob[col][val]=[pe/np,ne/nn]\n"
   ]
  },
  {
   "cell_type": "code",
   "execution_count": 10,
   "id": "2109792c",
   "metadata": {},
   "outputs": [],
   "source": [
    "#Using Bayes Theorem to Predict the output\n",
    "prediction=[]\n",
    "right_prediction=0\n",
    "for i in range(len(test)):\n",
    "    row=test.iloc[i,:]\n",
    "    fpp=np/te\n",
    "    fpn=nn/te\n",
    "    for col in test.columns[:-1]:\n",
    "        fpp*=prob[col][row[col]][0]\n",
    "        fpn*=prob[col][row[col]][1]\n",
    "\n",
    "    if fpp>fpn:\n",
    "        prediction.append('Yes')\n",
    "    else:\n",
    "        prediction.append('No')\n",
    "    if prediction[-1]==row[-1]:\n",
    "        right_prediction+=1\n"
   ]
  },
  {
   "cell_type": "code",
   "execution_count": 11,
   "id": "8d6c9537",
   "metadata": {},
   "outputs": [
    {
     "name": "stdout",
     "output_type": "stream",
     "text": [
      "\n",
      "Actual Values :  ['Yes', 'Yes', 'No', 'No']\n",
      "Predicted :  ['Yes', 'Yes', 'Yes', 'Yes']\n",
      "Accuracy :  0.5\n"
     ]
    }
   ],
   "source": [
    "#output\n",
    "print('\\nActual Values : ',list(test[test.columns[-1]]))\n",
    "print('Predicted : ',prediction)\n",
    "print('Accuracy : ',right_prediction/len(test))\n"
   ]
  },
  {
   "cell_type": "code",
   "execution_count": null,
   "id": "9325f641",
   "metadata": {},
   "outputs": [],
   "source": []
  }
 ],
 "metadata": {
  "kernelspec": {
   "display_name": "Python 3 (ipykernel)",
   "language": "python",
   "name": "python3"
  },
  "language_info": {
   "codemirror_mode": {
    "name": "ipython",
    "version": 3
   },
   "file_extension": ".py",
   "mimetype": "text/x-python",
   "name": "python",
   "nbconvert_exporter": "python",
   "pygments_lexer": "ipython3",
   "version": "3.9.7"
  }
 },
 "nbformat": 4,
 "nbformat_minor": 5
}
